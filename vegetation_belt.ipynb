{
 "cells": [
  {
   "cell_type": "markdown",
   "metadata": {},
   "source": [
    "# 1. Import libraries"
   ]
  },
  {
   "cell_type": "code",
   "execution_count": 1,
   "metadata": {},
   "outputs": [],
   "source": [
    "import numpy as np\n",
    "import pandas as pd\n",
    "import matplotlib.pyplot as plt\n",
    "from scipy import stats\n",
    "import seaborn as sns; sns.set()\n",
    "import sys\n",
    "from sklearn.impute import SimpleImputer\n",
    "from sklearn.pipeline import Pipeline\n",
    "from sklearn.pipeline import FeatureUnion\n",
    "from sklearn.preprocessing import StandardScaler\n",
    "from sklearn.linear_model import LinearRegression\n",
    "from sklearn.metrics import mean_squared_error\n",
    "from sklearn.tree import DecisionTreeRegressor\n",
    "from sklearn.model_selection import cross_val_score\n",
    "from sklearn.ensemble import RandomForestRegressor\n",
    "from sklearn.ensemble import ExtraTreesRegressor\n",
    "from sklearn.pipeline import make_pipeline\n",
    "from sklearn.preprocessing import StandardScaler"
   ]
  },
  {
   "cell_type": "markdown",
   "metadata": {},
   "source": [
    "# 2. Preparation of the Data"
   ]
  },
  {
   "cell_type": "markdown",
   "metadata": {},
   "source": [
    "## 2.1 Defining Test Ratio"
   ]
  },
  {
   "cell_type": "code",
   "execution_count": 2,
   "metadata": {},
   "outputs": [],
   "source": [
    "# Defines how many percent of the data is used to train and test the models. Here we use 20% of the data for testing"
   ]
  },
  {
   "cell_type": "code",
   "execution_count": 3,
   "metadata": {},
   "outputs": [],
   "source": [
    "test_ratio=0.2"
   ]
  },
  {
   "cell_type": "markdown",
   "metadata": {},
   "source": [
    "## 2.2 Columns with attributes "
   ]
  },
  {
   "cell_type": "code",
   "execution_count": 4,
   "metadata": {},
   "outputs": [],
   "source": [
    "#t = temperature\n",
    "t_attributeslist=[\"TYYMIN6190\",\"TYYMEAN6190\",\"TYYMAX6190\",\"TOCTMIN6190\",\"TOCTMEAN6190\",\"TOCTMAX6190\",\"TJULMIN6190\",\"TJULMEAN6190\",\"TJULMAX6190\",\"TJANMIN6190\",\"TJANMEAN6190\",\"TJANMAX6190\",\"TAPRMIN6190\",\"TAPRMEAN6190\",\"TAPRMAX6190\",\"TABSMIN\",\"TABSMAX\"]\n",
    "\n",
    "#kont = thermal continentality\n",
    "kont_attributeslist=[\"KONTYY1800\",\"KONTYY1400\",\"KONTYY1000\",\"KONTYY\",\"KONTOCT2000\",\"KONTOCT1800\",\"KONTOCT1400\",\"KONTOCT1000\",\"KONTOCT\",\"KONTJUL2000\",\"KONTJUL1800\",\"KONTJUL1400\",\"KONTJUL1000\",\"KONTJUL\",\"KONTJAN2000\",\"KONTJAN1800\",\"KONTJAN1400\",\"KONTJAN1000\",\"KONTJAN\",\"KONTJAHR2000\",\"KONTAPR2000\",\"KONTAPR1800\",\"KONTAPR1400\",\"KONTAPR1000\",\"KONTAPR\",\"KONTABS2000\",\"KONTABS1000\",\"KONTABS\"]\n",
    "\n",
    "#foehnh = foehn wind frequency\n",
    "foehnh_attributeslist=[\"FOEHNHYY\",\"FOEHNHOCT\",\"FOEHNHJUL\",\"FOEHNHJAN\",\"FOEHNHAPR\"]\n",
    "\n",
    "#ns = precipitation = rnorm\n",
    "ns_attributeslist=[\"RNORMJAN6190\",\"RNORMFEB6190\", \"RNORMMAR6190\",\"RNORMAPR6190\",\"RNORMMAY6190\",\"RNORMJUN6190\",\"RNORMJUL6190\",\"RNORMAUG6190\",\"RNORMSEP6190\",\"RNORMOCT6190\",\"RNORMNOV6190\",\"RNORMDEC6190\",\"RNORMYY6190\",\"RNORMJJA6190\",\"RNORMAMJJA6190\",\"RNORMAMJJAS6190\"]\n",
    "\n",
    "#rad = global radiation\n",
    "rad_attributeslist=[\"GLOBRADYYW\",\"GLOBRADJULW\",\"GLOBRADJANW\",\"GLOBRADAPRW\", \"GLOBRADOCTW\"]\n",
    "\n",
    "#lf = relative air moisture\n",
    "lf_attributeslist=[\"MLFYY\",\"MLFOCT\",\"MLFJUL\",\"MLFJAN\",\"MLFAPR\",\"LFOCT\",\"LFJUL\",\"LFJAN\",\"LFAPR\",\"LFYY\"]"
   ]
  },
  {
   "cell_type": "markdown",
   "metadata": {},
   "source": [
    "## 2.2 Splitting of data"
   ]
  },
  {
   "cell_type": "code",
   "execution_count": 5,
   "metadata": {},
   "outputs": [],
   "source": [
    "# Spliting the data into train and test groups with the defined ratio"
   ]
  },
  {
   "cell_type": "code",
   "execution_count": 6,
   "metadata": {},
   "outputs": [],
   "source": [
    "def split_train_test(data, test_ratio):\n",
    "    shuffled_indices=np.random.permutation(len(data))\n",
    "    test_set_size = int(len(data)*test_ratio)\n",
    "    test_indices=shuffled_indices[:test_set_size]\n",
    "    train_indices=shuffled_indices[test_set_size:]\n",
    "    return data.iloc[train_indices], data.iloc[test_indices]"
   ]
  },
  {
   "cell_type": "markdown",
   "metadata": {},
   "source": [
    "## 2.3 Import data from csv"
   ]
  },
  {
   "cell_type": "code",
   "execution_count": 7,
   "metadata": {},
   "outputs": [],
   "source": [
    "samples_n_df=pd.read_csv('samples_n_6190.csv', sep=';')"
   ]
  },
  {
   "cell_type": "markdown",
   "metadata": {},
   "source": [
    "## 2.4 Extract, clean, split and scale data of different belts"
   ]
  },
  {
   "cell_type": "code",
   "execution_count": 8,
   "metadata": {},
   "outputs": [],
   "source": [
    "vegetation_belts=[]\n",
    "belt = \"samples_belt_\"\n",
    "\n",
    "\n",
    "for belt_n in range(1,7):\n",
    "    current_belt = belt+str(belt_n)\n",
    "    current_belt_all_df=[]\n",
    "    \n",
    "    \n",
    "    # Extract vegetation belt n\n",
    "    samples_df=samples_n_df[samples_n_df.HSMAX==belt_n]\n",
    "    samples_df=samples_df.assign(CLASS=1)\n",
    "\n",
    "    # Clean the data with missing values \n",
    "    imp=SimpleImputer(missing_values=np.nan, strategy='most_frequent')\n",
    "    imp.fit(samples_df)\n",
    "\n",
    "    samples_dfclean=pd.DataFrame(imp.transform(samples_df), columns=samples_df.columns)\n",
    "\n",
    "\n",
    "    # Split data in training set and test set\n",
    "    trainset, testset=split_train_test(samples_dfclean, test_ratio)\n",
    "\n",
    "\n",
    "    # Transform and scale the data\n",
    "    num_pipeline = Pipeline([(\"imputer\", SimpleImputer(strategy=\"median\")), (\"std_scaler\", StandardScaler()),])\n",
    "    full_pipeline=FeatureUnion(transformer_list=[(\"num_pipeline\", num_pipeline)])\n",
    "    trainset_prepared=full_pipeline.fit_transform(trainset)\n",
    "    trainset_prepared_df=pd.DataFrame(trainset_prepared, columns=testset.columns)\n",
    "    testset_prepared=full_pipeline.fit_transform(testset)\n",
    "    testset_prepared_df=pd.DataFrame(testset_prepared, columns=testset.columns)\n",
    "\n",
    "    # Saving the data from all belts for training and testing\n",
    "    current_belt_all_df.append(trainset_prepared_df)\n",
    "    current_belt_all_df.append(trainset)\n",
    "    current_belt_all_df.append(testset_prepared_df)\n",
    "    current_belt_all_df.append(testset)\n",
    "    \n",
    "    # Append the belts\n",
    "    vegetation_belts.append(current_belt_all_df)\n",
    "    \n",
    "\n"
   ]
  },
  {
   "cell_type": "markdown",
   "metadata": {},
   "source": [
    "# 3. Regressor Models"
   ]
  },
  {
   "cell_type": "markdown",
   "metadata": {},
   "source": [
    "## 3.1 Defining values"
   ]
  },
  {
   "cell_type": "code",
   "execution_count": 9,
   "metadata": {},
   "outputs": [],
   "source": [
    "# extract the values for every month and year"
   ]
  },
  {
   "cell_type": "code",
   "execution_count": 10,
   "metadata": {},
   "outputs": [],
   "source": [
    "jan_X=[\"RNORMJAN6190\",\"KONTJAN\",\"ETAETP\",\"FOEHNHJAN\",\"GLOBRADJANW\"]\n",
    "jan_Y=[\"TJANMEAN6190\"]\n",
    "\n",
    "apr_X=[\"RNORMAPR6190\",\"KONTAPR\",\"ETAETP\",\"FOEHNHAPR\",\"GLOBRADAPRW\"]\n",
    "apr_Y=[\"TAPRMEAN6190\"]\n",
    "\n",
    "jul_X=[\"RNORMJUL6190\",\"KONTJUL\",\"ETAETP\",\"FOEHNHJUL\",\"GLOBRADJULW\"]\n",
    "jul_Y=[\"TJULMEAN6190\"]\n",
    "\n",
    "oct_X=[\"RNORMOCT6190\",\"KONTOCT\",\"ETAETP\",\"FOEHNHOCT\",\"GLOBRADOCTW\"]\n",
    "oct_Y=[\"TOCTMEAN6190\"]\n",
    "\n",
    "YY_X=[\"RNORMYY6190\",\"KONTYY\",\"ETAETP\",\"FOEHNHYY\",\"GLOBRADYYW\"]\n",
    "YY_Y=[\"TYYMEAN6190\"]"
   ]
  },
  {
   "cell_type": "markdown",
   "metadata": {},
   "source": [
    "## 3.2 Defining x and y "
   ]
  },
  {
   "cell_type": "code",
   "execution_count": 11,
   "metadata": {},
   "outputs": [],
   "source": [
    "# Define the x and y test and train data"
   ]
  },
  {
   "cell_type": "code",
   "execution_count": 12,
   "metadata": {},
   "outputs": [],
   "source": [
    "def get_XY_from_specific_time(x, y, df, hsmax):\n",
    "        \n",
    "    Xtrain= df[hsmax][0][ x ].to_numpy()\n",
    "    ytrain= df[hsmax][1][ y ].values.reshape(-1)\n",
    "\n",
    "    Xtest = df[hsmax][2][ x ].to_numpy()\n",
    "    ytest = df[hsmax][3][ y ].values.reshape(-1)\n",
    "    \n",
    "    return Xtrain, ytrain, Xtest, ytest"
   ]
  },
  {
   "cell_type": "markdown",
   "metadata": {},
   "source": [
    "## 3.3 Training of the Models "
   ]
  },
  {
   "cell_type": "code",
   "execution_count": 13,
   "metadata": {},
   "outputs": [],
   "source": [
    "# Training the four models with the train dataset\n",
    "# The models are: linear regressor, random forest regressor, extra tree regressor and decision tree regressor"
   ]
  },
  {
   "cell_type": "code",
   "execution_count": 14,
   "metadata": {},
   "outputs": [],
   "source": [
    "def train_Regressor_Models(x_train,y_train):\n",
    "    \n",
    "    lin_model=LinearRegression()\n",
    "    lin_model.fit(x_train,y_train) # Trains linear Regressor\n",
    "    \n",
    "    rfg_model=RandomForestRegressor()\n",
    "    rfg_model.fit(x_train,y_train) # Trains Random Forest Regressor\n",
    "    \n",
    "    etr_model=ExtraTreesRegressor()\n",
    "    etr_model.fit(x_train,y_train) # Trains Extra Trees Regressor\n",
    "    \n",
    "    dtr_model=DecisionTreeRegressor()\n",
    "    dtr_model.fit(x_train,y_train) # Trains Decision Tree Regressor\n",
    "    \n",
    "    return lin_model, rfg_model, etr_model, dtr_model"
   ]
  },
  {
   "cell_type": "markdown",
   "metadata": {},
   "source": [
    "## 3.4 Testing of the Models and calculating the RMSE"
   ]
  },
  {
   "cell_type": "code",
   "execution_count": 15,
   "metadata": {},
   "outputs": [],
   "source": [
    "# Tests the models with the test dataset and calculates the RMSE"
   ]
  },
  {
   "cell_type": "code",
   "execution_count": 16,
   "metadata": {},
   "outputs": [],
   "source": [
    "def test_Regressor_Models(model,x_test,y_test):\n",
    "    \n",
    "    prediction=model.predict(x_test)\n",
    "    model_rmse=mean_squared_error(y_test,prediction, squared=False)\n",
    "    \n",
    "    return model_rmse"
   ]
  },
  {
   "cell_type": "markdown",
   "metadata": {},
   "source": [
    "## 3.5 Definition of the evaluation set"
   ]
  },
  {
   "cell_type": "code",
   "execution_count": 17,
   "metadata": {},
   "outputs": [],
   "source": [
    "evaluation_set = [ [\"January\" ,jan_X, jan_Y] , [\"April\" ,apr_X, apr_Y] , [\"July\", jul_X, jul_Y] , [\"October\", oct_X, oct_Y], [\"Year\", YY_X, YY_Y]]"
   ]
  },
  {
   "cell_type": "markdown",
   "metadata": {},
   "source": [
    "# 4. Results"
   ]
  },
  {
   "cell_type": "markdown",
   "metadata": {},
   "source": [
    "## 4.1 Running models and return csv"
   ]
  },
  {
   "cell_type": "code",
   "execution_count": 18,
   "metadata": {},
   "outputs": [],
   "source": [
    "# Running of the models for all months of each belt and return the RMSE of each in a csv"
   ]
  },
  {
   "cell_type": "code",
   "execution_count": 19,
   "metadata": {},
   "outputs": [
    {
     "name": "stdout",
     "output_type": "stream",
     "text": [
      "#########    Starting Belt 1      #########  \n",
      "#             Belt 1 done                 #  \n",
      "#########    Starting Belt 2      #########  \n",
      "#             Belt 2 done                 #  \n",
      "#########    Starting Belt 3      #########  \n",
      "#             Belt 3 done                 #  \n",
      "#########    Starting Belt 4      #########  \n",
      "#             Belt 4 done                 #  \n",
      "#########    Starting Belt 5      #########  \n",
      "#             Belt 5 done                 #  \n",
      "#########    Starting Belt 6      #########  \n",
      "#             Belt 6 done                 #  \n"
     ]
    }
   ],
   "source": [
    "data = {}\n",
    "for month in evaluation_set: \n",
    "    data['lr'+'-'+month[0]]=[]\n",
    "    data['rfg'+'-'+month[0]]=[]\n",
    "    data['etr'+'-'+month[0]]=[]\n",
    "    data['dtr'+'-'+month[0]]=[]\n",
    "\n",
    "\n",
    "\n",
    "for belt in range(0,6):\n",
    "    print(\"#########    Starting Belt \"+str(belt+1)+\"      #########  \")\n",
    "    for month in evaluation_set:\n",
    "\n",
    "        # Split data for month into x/y\n",
    "        x_Tr , y_Tr , x_Te , y_Te = get_XY_from_specific_time( month[1]  , month[2], vegetation_belts , belt )\n",
    "\n",
    "        # Training model with data of month\n",
    "        lin_model, rfg_model, etr_model, dtr_model = train_Regressor_Models(x_Tr, y_Tr)\n",
    "\n",
    "        # Test model\n",
    "        lr_rmse = test_Regressor_Models(lin_model, x_Te, y_Te)\n",
    "        rfg_rmse = test_Regressor_Models(rfg_model, x_Te, y_Te)\n",
    "        etr_rmse = test_Regressor_Models(etr_model, x_Te, y_Te)\n",
    "        dtr_rmse = test_Regressor_Models(dtr_model, x_Te, y_Te)\n",
    "        \n",
    "        \n",
    "        # Saves the RMSE in a array for df anad csv use\n",
    "        data['lr'+'-'+month[0]].append(lr_rmse)\n",
    "        data['rfg'+'-'+month[0]].append(rfg_rmse)\n",
    "        data['etr'+'-'+month[0]].append(etr_rmse)\n",
    "        data['dtr'+'-'+month[0]].append(dtr_rmse)\n",
    "        \n",
    "    print(\"#             Belt \"+str(belt+1)+\" done                 #  \")\n",
    "        \n",
    "\n",
    "\n",
    "df = pd.DataFrame(data)\n",
    "df.to_csv('vegetation_belt_results.csv')"
   ]
  },
  {
   "cell_type": "markdown",
   "metadata": {},
   "source": [
    "## 4.2 Bar Plot for visualisation of results"
   ]
  },
  {
   "cell_type": "code",
   "execution_count": 20,
   "metadata": {},
   "outputs": [],
   "source": [
    "# Transpose the data of the data frame"
   ]
  },
  {
   "cell_type": "code",
   "execution_count": 21,
   "metadata": {},
   "outputs": [],
   "source": [
    "df_t = df.transpose()"
   ]
  },
  {
   "cell_type": "code",
   "execution_count": 22,
   "metadata": {},
   "outputs": [],
   "source": [
    "# Creating a bar plot by using the RMSE of each model for every months/year of all belts\n",
    "# Since it is sorted after index the order of the months is incorrect. \n",
    "# dtr= decision tree regressor, etr = extra tree regressor, lr= linear regressor, rfg= random forest regressor"
   ]
  },
  {
   "cell_type": "code",
   "execution_count": 23,
   "metadata": {},
   "outputs": [
    {
     "data": {
      "text/plain": [
       "Text(0, 0.5, 'RMSE')"
      ]
     },
     "execution_count": 23,
     "metadata": {},
     "output_type": "execute_result"
    },
    {
     "data": {
      "image/png": "[encoded data removed]",
      "text/plain": [
       "<Figure size 1440x432 with 1 Axes>"
      ]
     },
     "metadata": {},
     "output_type": "display_data"
    }
   ],
   "source": [
    "df_t.sort_index().plot.bar(figsize=(20, 6))\n",
    "plt.legend([\"Belt 1\",\"Belt 2\",\"Belt 3\",\"Belt 4\", \"Belt 5\", \"Belt 6\"], loc=1,ncol=1, fontsize=12)\n",
    "plt.title(\"Comparison of the RMSE of the Models\", fontsize=32)\n",
    "plt.ylabel(\"RMSE\", fontsize = 22)"
   ]
  }
 ],
 "metadata": {
  "kernelspec": {
   "display_name": "Python 3",
   "language": "python",
   "name": "python3"
  },
  "language_info": {
   "codemirror_mode": {
    "name": "ipython",
    "version": 3
   },
   "file_extension": ".py",
   "mimetype": "text/x-python",
   "name": "python",
   "nbconvert_exporter": "python",
   "pygments_lexer": "ipython3",
   "version": "3.7.7"
  }
 },
 "nbformat": 4,
 "nbformat_minor": 4
}
